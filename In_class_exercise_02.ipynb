{
  "nbformat": 4,
  "nbformat_minor": 0,
  "metadata": {
    "colab": {
      "name": "In_class_exercise_02.ipynb",
      "provenance": [],
      "collapsed_sections": [],
      "include_colab_link": true
    },
    "kernelspec": {
      "display_name": "Python 3",
      "language": "python",
      "name": "python3"
    },
    "language_info": {
      "codemirror_mode": {
        "name": "ipython",
        "version": 3
      },
      "file_extension": ".py",
      "mimetype": "text/x-python",
      "name": "python",
      "nbconvert_exporter": "python",
      "pygments_lexer": "ipython3",
      "version": "3.7.4"
    }
  },
  "cells": [
    {
      "cell_type": "markdown",
      "metadata": {
        "id": "view-in-github",
        "colab_type": "text"
      },
      "source": [
        "<a href=\"https://colab.research.google.com/github/ambicapvs/ambica_info5731_spring2021/blob/main/In_class_exercise_02.ipynb\" target=\"_parent\"><img src=\"https://colab.research.google.com/assets/colab-badge.svg\" alt=\"Open In Colab\"/></a>"
      ]
    },
    {
      "cell_type": "markdown",
      "metadata": {
        "id": "oo5bsEh2eeWi"
      },
      "source": [
        "# **The second In-class-exercise (1/27/2021, 20 points in total)**\n"
      ]
    },
    {
      "cell_type": "markdown",
      "metadata": {
        "id": "2sPQ58dIeqgp"
      },
      "source": [
        "(1) Write a Python program to find the duplicate elements in a given array of integers. Return -1 If there are no such elements. (4 points)"
      ]
    },
    {
      "cell_type": "code",
      "metadata": {
        "colab": {
          "base_uri": "https://localhost:8080/"
        },
        "id": "mnrvKMFTeoJR",
        "outputId": "f0bad4f2-0904-406b-a808-30f8a2fc80a0"
      },
      "source": [
        "\n",
        "def find_duplicate():\n",
        "  array = [11, 22, 133, 124,124,133,133, 411, 123 ,888]\n",
        "  a = set(array) #set removes duplicates from the list \n",
        "  result = {}\n",
        "  if len(array) == len(a): #No duplicates if set and list of same length\n",
        "    return(-1)\n",
        "  else:\n",
        "    for i in a:\n",
        "      count =0\n",
        "      for j in array:\n",
        "        if i ==j:\n",
        "          count = count + 1\n",
        "          if count > 1:\n",
        "            result[i] = count\n",
        "    return(\"Duplicates exists for these elements\",result)\n",
        "print(find_duplicate())"
      ],
      "execution_count": null,
      "outputs": [
        {
          "output_type": "stream",
          "text": [
            "('Duplicates exists for these elements', {133: 3, 124: 2})\n"
          ],
          "name": "stdout"
        }
      ]
    },
    {
      "cell_type": "markdown",
      "metadata": {
        "id": "YYrH6n6IhZoQ"
      },
      "source": [
        "(2) Write a Python program to select all the Sundays of a specified year. (4 points)\n",
        "\n"
      ]
    },
    {
      "cell_type": "code",
      "metadata": {
        "colab": {
          "base_uri": "https://localhost:8080/"
        },
        "id": "OSfPLd23eLpX",
        "outputId": "3db4dcf1-8c0b-49b7-eb35-ea03d116ec14"
      },
      "source": [
        "import calendar\n",
        "def find_Sundays(year):\n",
        "  print(\"Identifying all Sundays for year:\",year)\n",
        "  obj = calendar.TextCalendar() # setting first day of the week as Sunday.\n",
        "  for months in range(1,13):\n",
        "    for days in obj.itermonthdays(year,months):\n",
        "      if ( days != 0 and calendar.weekday(year, months , days) == 6): # 0 is Monday\n",
        "        print(str(months)+\"/\"+str(days)+\"/\"+str(year))\n",
        "find_Sundays(2021)"
      ],
      "execution_count": null,
      "outputs": [
        {
          "output_type": "stream",
          "text": [
            "Identifying all Sundays for year: 2021\n",
            "1/3/2021\n",
            "1/10/2021\n",
            "1/17/2021\n",
            "1/24/2021\n",
            "1/31/2021\n",
            "2/7/2021\n",
            "2/14/2021\n",
            "2/21/2021\n",
            "2/28/2021\n",
            "3/7/2021\n",
            "3/14/2021\n",
            "3/21/2021\n",
            "3/28/2021\n",
            "4/4/2021\n",
            "4/11/2021\n",
            "4/18/2021\n",
            "4/25/2021\n",
            "5/2/2021\n",
            "5/9/2021\n",
            "5/16/2021\n",
            "5/23/2021\n",
            "5/30/2021\n",
            "6/6/2021\n",
            "6/13/2021\n",
            "6/20/2021\n",
            "6/27/2021\n",
            "7/4/2021\n",
            "7/11/2021\n",
            "7/18/2021\n",
            "7/25/2021\n",
            "8/1/2021\n",
            "8/8/2021\n",
            "8/15/2021\n",
            "8/22/2021\n",
            "8/29/2021\n",
            "9/5/2021\n",
            "9/12/2021\n",
            "9/19/2021\n",
            "9/26/2021\n",
            "10/3/2021\n",
            "10/10/2021\n",
            "10/17/2021\n",
            "10/24/2021\n",
            "10/31/2021\n",
            "11/7/2021\n",
            "11/14/2021\n",
            "11/21/2021\n",
            "11/28/2021\n",
            "12/5/2021\n",
            "12/12/2021\n",
            "12/19/2021\n",
            "12/26/2021\n"
          ],
          "name": "stdout"
        }
      ]
    },
    {
      "cell_type": "markdown",
      "metadata": {
        "id": "UIpziZ6Sjie-"
      },
      "source": [
        "(3) Python files reading and writing. Download the “[exercise_02_data _collection.zip](https://github.com/unt-iialab/info5731_spring2021/blob/main/class_exercises/exercise_02_data_collection.zip)” to your local and un-zip it.\n",
        "\n",
        "*   Write a program to read all the txt files and save the sentences in all the files into one csv file with two columns, the first column is sentence id (txt file name+sentence line number), the second column is the sentence text content. (4 points)\n",
        "*   Remove all the punctuations from the sentences, save the processed sentences into a new column in the same csv file. (4 points)\n",
        "*   Ask the user to enter a word, return all the sentences that include this word, three kinds of information should be returned: sentence id, sentence text content, the count that user input word appear in the sentence. (4 points)\n",
        "\n"
      ]
    },
    {
      "cell_type": "code",
      "metadata": {
        "colab": {
          "base_uri": "https://localhost:8080/"
        },
        "id": "f3CUsrWOj1Xy",
        "outputId": "9f6febef-7329-4b13-ee5e-ab054518c6af"
      },
      "source": [
        "with open(\"/content/ARTHROTEC.1.txt\") as f:\n",
        "  lines = f.readlines()\n",
        "  for line in lines:\n",
        "    print(line)"
      ],
      "execution_count": null,
      "outputs": [
        {
          "output_type": "stream",
          "text": [
            "I feel a bit drowsy & have a little blurred vision, so far no gastric problems.\n",
            "\n",
            "I've been on Arthrotec 50 for over 10 years on and off, only taking it when I needed it.\n",
            "\n",
            "Due to my arthritis getting progressively worse, to the point where I am in tears with the agony, gp's started me on 75 twice a day and I have to take it.\n",
            "\n",
            "every day for the next month to see how I get on, here goes.\n",
            "\n",
            "So far its been very good, pains almost gone, but I feel a bit weird, didn't have that when on 50.\n"
          ],
          "name": "stdout"
        }
      ]
    },
    {
      "cell_type": "code",
      "metadata": {
        "id": "ADqECBDN8nNP"
      },
      "source": [
        "from google.colab import drive\n",
        "drive.mount('/content/drive')"
      ],
      "execution_count": null,
      "outputs": []
    },
    {
      "cell_type": "markdown",
      "metadata": {
        "id": "-12cqmJEpZOh"
      },
      "source": [
        "(4) Install packages nltk, numpy, scipy, pandas, and sklearn on Google Colab. Write a program to test whether they are installed successfully. (3 points for extra)"
      ]
    },
    {
      "cell_type": "code",
      "metadata": {
        "id": "f1pn1Zl2qK77"
      },
      "source": [
        "# write your answer here\n",
        "\n",
        "\n",
        "\n"
      ],
      "execution_count": null,
      "outputs": []
    }
  ]
}